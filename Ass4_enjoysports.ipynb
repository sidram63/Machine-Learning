{
 "cells": [
  {
   "cell_type": "code",
   "execution_count": 3,
   "metadata": {},
   "outputs": [],
   "source": [
    "import numpy as np \n",
    "import pandas as pd\n",
    "import csv"
   ]
  },
  {
   "cell_type": "code",
   "execution_count": 5,
   "metadata": {},
   "outputs": [
    {
     "name": "stdout",
     "output_type": "stream",
     "text": [
      "['Sky', 'AirTemp', 'Humidity', 'Wind', 'Water', 'Forecast', 'EnjoySport']\n",
      "['Sunny', 'Warm', 'Normal', 'Strong', 'Warm', 'Same', '1']\n",
      "['Sunny', 'Warm', 'High', 'Strong', 'Warm', 'Same', '1']\n",
      "['Rainy', 'Cold', 'High', 'Strong', 'Warm', 'Change', '0']\n",
      "['Sunny', 'Warm', 'High', 'Strong', 'Cool', 'Change', '1']\n"
     ]
    },
    {
     "data": {
      "text/plain": [
       "_csv.reader"
      ]
     },
     "execution_count": 5,
     "metadata": {},
     "output_type": "execute_result"
    }
   ],
   "source": [
    "num_attributes = 6\n",
    "a = [] \n",
    "file = 'ENJOYSPORT.csv'\n",
    "\n",
    "with open(file, 'r') as csvfile:\n",
    "    reader = csv.reader(csvfile)\n",
    "    for row in reader:\n",
    "        a.append (row)\n",
    "        print(row)\n",
    "        \n",
    "type(reader)"
   ]
  },
  {
   "cell_type": "code",
   "execution_count": 14,
   "metadata": {},
   "outputs": [
    {
     "data": {
      "text/plain": [
       "['Sunny', 'Warm', 'Normal', 'Strong', 'Warm', 'Same']"
      ]
     },
     "execution_count": 14,
     "metadata": {},
     "output_type": "execute_result"
    }
   ],
   "source": [
    "a[1][:-1]"
   ]
  },
  {
   "cell_type": "code",
   "execution_count": 15,
   "metadata": {},
   "outputs": [
    {
     "name": "stdout",
     "output_type": "stream",
     "text": [
      "\n",
      " The initial value of hypothesis: \n",
      "['0', '0', '0', '0', '0']\n"
     ]
    },
    {
     "data": {
      "text/plain": [
       "['Sunny', 'Warm', 'Normal', 'Strong', 'Warm']"
      ]
     },
     "execution_count": 15,
     "metadata": {},
     "output_type": "execute_result"
    }
   ],
   "source": [
    "print(\"\\n The initial value of hypothesis: \")\n",
    "hypothesis = ['0'] * num_attributes\n",
    "print(hypothesis)\n",
    "\n",
    "for j in range(0,num_attributes):\n",
    "    hypothesis[j] = a[1][j] \n",
    "    \n",
    "hypothesis"
   ]
  },
  {
   "cell_type": "code",
   "execution_count": 16,
   "metadata": {},
   "outputs": [
    {
     "data": {
      "text/plain": [
       "False"
      ]
     },
     "execution_count": 16,
     "metadata": {},
     "output_type": "execute_result"
    }
   ],
   "source": [
    "hypothesis == a[1][:-1]"
   ]
  },
  {
   "cell_type": "code",
   "execution_count": 17,
   "metadata": {},
   "outputs": [
    {
     "name": "stdout",
     "output_type": "stream",
     "text": [
      "\n",
      " Find S: Finding a Maximally Specific Hypothesis\n",
      "\n",
      "\n",
      "\n",
      "For Training instance No:1 the hypothesis is  ['Sunny', 'Warm', 'Normal', 'Strong', 'Warm']\n",
      "\n",
      "\n",
      "For Training instance No:2 the hypothesis is  ['Sunny', 'Warm', 'Normal', 'Strong', 'Warm']\n",
      "\n",
      "\n",
      "For Training instance No:3 the hypothesis is  ['Sunny', 'Warm', 'Normal', 'Strong', 'Warm']\n",
      "\n",
      "\n",
      "For Training instance No:4 the hypothesis is  ['Sunny', 'Warm', 'Normal', 'Strong', 'Warm']\n",
      "\n",
      " The Maximally Specific Hypothesis for a given Training Examples :\n",
      "\n",
      "['Sunny', 'Warm', 'Normal', 'Strong', 'Warm']\n"
     ]
    }
   ],
   "source": [
    "print(\"\\n Find S: Finding a Maximally Specific Hypothesis\\n\") \n",
    "\n",
    "for i in range(1,len(a)):\n",
    "    if a[i][num_attributes]=='Yes':\n",
    "        for j in range(0,num_attributes):\n",
    "            print(a[i][j], end=' ')\n",
    "            if a[i][j]!=hypothesis[j]:\n",
    "                hypothesis[j]='?'\n",
    "            else :\n",
    "                hypothesis[j]= a[i][j] \n",
    "    print(\"\\n\\nFor Training instance No:{} the hypothesis is \".format(i), hypothesis)\n",
    "\n",
    "print(\"\\n The Maximally Specific Hypothesis for a given Training Examples :\\n\")\n",
    "print(hypothesis)"
   ]
  },
  {
   "cell_type": "code",
   "execution_count": 10,
   "metadata": {},
   "outputs": [
    {
     "data": {
      "text/plain": [
       "[['Sky', 'AirTemp', 'Humidity', 'Wind', 'Water', 'Forecast', 'EnjoySport'],\n",
       " ['Sunny', 'Warm', 'Normal', 'Strong', 'Warm', 'Same', '1'],\n",
       " ['Sunny', 'Warm', 'High', 'Strong', 'Warm', 'Same', '1'],\n",
       " ['Rainy', 'Cold', 'High', 'Strong', 'Warm', 'Change', '0'],\n",
       " ['Sunny', 'Warm', 'High', 'Strong', 'Cool', 'Change', '1']]"
      ]
     },
     "execution_count": 10,
     "metadata": {},
     "output_type": "execute_result"
    }
   ],
   "source": [
    "a"
   ]
  },
  {
   "cell_type": "code",
   "execution_count": 13,
   "metadata": {},
   "outputs": [
    {
     "name": "stdout",
     "output_type": "stream",
     "text": [
      "\n",
      " The Given Training Data Set \n",
      "\n",
      "['Sky', 'AirTemp', 'Humidity', 'Wind', 'Water', 'Forecast', 'EnjoySport']\n",
      "['Sunny', 'Warm', 'Normal', 'Strong', 'Warm', 'Same', '1']\n",
      "['Sunny', 'Warm', 'High', 'Strong', 'Warm', 'Same', '1']\n",
      "['Rainy', 'Cold', 'High', 'Strong', 'Warm', 'Change', '0']\n",
      "['Sunny', 'Warm', 'High', 'Strong', 'Cool', 'Change', '1']\n",
      "\n",
      " The initial value of hypothesis: \n",
      "['0', '0', '0', '0', '0']\n",
      "\n",
      " The a[1] value of hypothesis: \n",
      "['Sunny', 'Warm', 'Normal', 'Strong', 'Warm']\n",
      "\n",
      " Find S: Finding a Maximally Specific Hypothesis\n",
      "\n",
      " For Training instance No:0 the hypothesis is  ['Sunny', 'Warm', 'Normal', 'Strong', 'Warm']\n",
      " For Training instance No:1 the hypothesis is  ['Sunny', 'Warm', 'Normal', 'Strong', 'Warm']\n",
      " For Training instance No:2 the hypothesis is  ['Sunny', 'Warm', 'Normal', 'Strong', 'Warm']\n",
      " For Training instance No:3 the hypothesis is  ['Sunny', 'Warm', 'Normal', 'Strong', 'Warm']\n",
      " For Training instance No:4 the hypothesis is  ['Sunny', 'Warm', 'Normal', 'Strong', 'Warm']\n",
      "\n",
      " The Maximally Specific Hypothesis for a given Training Examples :\n",
      "\n",
      "['Sunny', 'Warm', 'Normal', 'Strong', 'Warm']\n"
     ]
    }
   ],
   "source": [
    "import csv\n",
    "num_attributes = 5\n",
    "a = []\n",
    "print(\"\\n The Given Training Data Set \\n\")\n",
    "\n",
    "with open('ENJOYSPORT.csv', 'r') as csvfile:\n",
    "    reader = csv.reader(csvfile)\n",
    "    for row in reader:\n",
    "        a.append (row)\n",
    "        print(row)\n",
    "        \n",
    "print(\"\\n The initial value of hypothesis: \")\n",
    "hypothesis = ['0'] * num_attributes\n",
    "print(hypothesis)\n",
    "\n",
    "for j in range(0,num_attributes):\n",
    "    hypothesis[j] = a[1][j] \n",
    "    \n",
    "print(\"\\n The a[1] value of hypothesis: \")\n",
    "print(hypothesis)\n",
    "\n",
    "print(\"\\n Find S: Finding a Maximally Specific Hypothesis\\n\")\n",
    "\n",
    "for i in range(0,len(a)):\n",
    "    if a[i][num_attributes]=='Yes':\n",
    "        for j in range(0,num_attributes):\n",
    "            if a[i][j]!=hypothesis[j]:\n",
    "                hypothesis[j]='?'\n",
    "            else :\n",
    "                hypothesis[j]= a[i][j] \n",
    "    print(\" For Training instance No:{} the hypothesis is \".format(i), hypothesis)\n",
    "\n",
    "print(\"\\n The Maximally Specific Hypothesis for a given Training Examples :\\n\")\n",
    "print(hypothesis)"
   ]
  },
  {
   "cell_type": "code",
   "execution_count": null,
   "metadata": {},
   "outputs": [],
   "source": []
  }
 ],
 "metadata": {
  "kernelspec": {
   "display_name": "Python 3",
   "language": "python",
   "name": "python3"
  },
  "language_info": {
   "codemirror_mode": {
    "name": "ipython",
    "version": 3
   },
   "file_extension": ".py",
   "mimetype": "text/x-python",
   "name": "python",
   "nbconvert_exporter": "python",
   "pygments_lexer": "ipython3",
   "version": "3.6.5"
  }
 },
 "nbformat": 4,
 "nbformat_minor": 2
}
